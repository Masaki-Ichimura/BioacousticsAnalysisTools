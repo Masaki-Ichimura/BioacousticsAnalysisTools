{
 "cells": [
  {
   "cell_type": "markdown",
   "id": "a9a5d27f-8cd8-4835-b0ed-ff8571a3dc75",
   "metadata": {},
   "source": [
    "## インストール(初回のみ)\n",
    "事前に\n",
    "- pyenv をインストール\n",
    "- `pyenv install 3.8.13` を実行\n",
    "\n",
    "しておく"
   ]
  },
  {
   "cell_type": "code",
   "execution_count": null,
   "id": "62cdba18-423d-4ac9-9ed1-cca2b7ad297e",
   "metadata": {},
   "outputs": [],
   "source": [
    "!sh install.sh"
   ]
  },
  {
   "cell_type": "markdown",
   "id": "8020e744-2be9-4094-aae8-d3b741798af0",
   "metadata": {},
   "source": [
    "---"
   ]
  },
  {
   "cell_type": "code",
   "execution_count": null,
   "id": "942522d9-41a5-49f0-8e91-6fa70a2f568b",
   "metadata": {
    "tags": []
   },
   "outputs": [],
   "source": [
    "import torch\n",
    "import matplotlib.pyplot as plt\n",
    "from IPython.display import Audio"
   ]
  },
  {
   "cell_type": "markdown",
   "id": "7ef8f697-ef32-42b4-83ed-4db041ad6a26",
   "metadata": {},
   "source": [
    "## parameters"
   ]
  },
  {
   "cell_type": "code",
   "execution_count": null,
   "id": "0b24220c-278f-47f0-b671-3d7cdf04b0fb",
   "metadata": {},
   "outputs": [],
   "source": [
    "stft_dict = dict(n_fft=1024, hop_length=256, window=torch.hann_window)"
   ]
  },
  {
   "cell_type": "markdown",
   "id": "c3560a7e-4a1e-41b1-b5a9-67dfa3c311d2",
   "metadata": {
    "tags": []
   },
   "source": [
    "## IO"
   ]
  },
  {
   "cell_type": "code",
   "execution_count": null,
   "id": "4d34e372-ac9a-4d82-95d5-cea00c182450",
   "metadata": {},
   "outputs": [],
   "source": [
    "from batools.utils.audio.wave import load_wave, metadata_wave\n",
    "from batools.utils.audio.plot import show_spec, show_wave"
   ]
  },
  {
   "cell_type": "code",
   "execution_count": null,
   "id": "c56e5593-64e1-4610-a629-d50b41b17659",
   "metadata": {},
   "outputs": [],
   "source": [
    "def show(znt, fs):\n",
    "    display(Audio(data=znt, rate=fs))\n",
    "\n",
    "    fig, axes = plt.subplots(2, 1, figsize=(16, 4), tight_layout=True)\n",
    "\n",
    "    show_wave(znt, fs, ax=axes[0], color='b')\n",
    "\n",
    "    axes[0].tick_params(axis='x', bottom=False, labelbottom=False)\n",
    "    axes[0].set_xlim([0, znt.shape[-1]/fs])\n",
    "    axes[0].set_xlabel('')\n",
    "\n",
    "    show_spec(znt, fs, stft_dict['n_fft'], ax=axes[1])\n",
    "\n",
    "    plt.show()"
   ]
  },
  {
   "cell_type": "code",
   "execution_count": null,
   "id": "1195bc46-5a09-4b17-94f0-26b2976b8457",
   "metadata": {},
   "outputs": [],
   "source": [
    "filename = 'data/test.wav'\n",
    "print(metadata_wave(filename))\n",
    "data, fs = load_wave(filename)\n",
    "\n",
    "show(data, fs)\n",
    "\n",
    "xnt = data"
   ]
  },
  {
   "cell_type": "markdown",
   "id": "31037a66-6e75-4edb-ae03-5c42df27d33f",
   "metadata": {
    "tags": []
   },
   "source": [
    "## BSS\n",
    "分離パラメータの詳細は pyroomacoustics から確認\n",
    "> https://pyroomacoustics.readthedocs.io/en/pypi-release/pyroomacoustics.bss.html\n",
    "- AuxIVA\n",
    "- FastMNMF\n",
    "- ILRMA\n",
    "\n",
    "以下，使用は非推奨\n",
    "\n",
    "自己実装\n",
    "- ~~NMFLGM~~\n",
    "\n",
    "GPUテンソルでのデバッグがまだ(CPU上では動く)\n",
    "> https://github.com/onolab-tmu/overiva\n",
    "\n",
    "- ~~OverIVA~~\n",
    "- ~~OGIVE~~"
   ]
  },
  {
   "cell_type": "code",
   "execution_count": null,
   "id": "39c37d3d-9fee-47b7-ad95-82cfcadde4c5",
   "metadata": {
    "tags": []
   },
   "outputs": [],
   "source": [
    "from batools.utils.audio.bss.auxiva import AuxIVA\n",
    "from batools.utils.audio.bss.fastmnmf import FastMNMF\n",
    "from batools.utils.audio.bss.ilrma import ILRMA\n",
    "\n",
    "# from utils.audio.bss.lgm import NMFLGM\n",
    "# from utils.audio.bss.overiva import OverIVA\n",
    "# from utils.audio.bss.ogive import OGIVE"
   ]
  },
  {
   "cell_type": "markdown",
   "id": "30df3a0d-91a0-4cc6-b605-33f2474a5dbb",
   "metadata": {},
   "source": [
    "GPUを用いた計算も可能"
   ]
  },
  {
   "cell_type": "code",
   "execution_count": null,
   "id": "69a008d5-debe-47b1-822e-58ba81b8ade7",
   "metadata": {},
   "outputs": [],
   "source": [
    "device = 'cpu'\n",
    "model = AuxIVA(**stft_dict).to(device)"
   ]
  },
  {
   "cell_type": "code",
   "execution_count": null,
   "id": "7ccb1d1d-aa03-429e-bff0-b99f07121b9e",
   "metadata": {
    "tags": []
   },
   "outputs": [],
   "source": [
    "ynt = model(xnt.to(device), n_iter=20)\n",
    "_ = [show(yt, fs) for yt in ynt]"
   ]
  },
  {
   "cell_type": "markdown",
   "id": "5d2a3e81-b5d9-4f40-8467-2491cd6ca0dd",
   "metadata": {},
   "source": [
    "## Remove silence"
   ]
  },
  {
   "cell_type": "code",
   "execution_count": null,
   "id": "eab78ef2-98f2-4d29-8ab7-1e1bde5585e8",
   "metadata": {},
   "outputs": [],
   "source": [
    "from batools.utils.audio import silence_pyaudioanalysis\n",
    "from batools.utils.audio.transform import extract_from_section"
   ]
  },
  {
   "cell_type": "markdown",
   "id": "4a780606-2f44-452f-a181-1afacc1d7cab",
   "metadata": {
    "tags": []
   },
   "source": [
    "特に雑音が多い環境下の場合，必要な帯域のみを使用して無音区間除去を行ったほうが精度が出る場合がある"
   ]
  },
  {
   "cell_type": "code",
   "execution_count": null,
   "id": "540b5073-3cc0-4d04-acd9-dcb5d5ace4a9",
   "metadata": {},
   "outputs": [],
   "source": [
    "from batools.utils.audio.transform import apply_freq_mask"
   ]
  },
  {
   "cell_type": "code",
   "execution_count": null,
   "id": "6caa0df1-0b09-48bd-917b-da528901bf85",
   "metadata": {},
   "outputs": [],
   "source": [
    "freq_low, freq_high = None, None\n",
    "ynt = apply_freq_mask(xnt, fs, freq_low=freq_low, freq_high=freq_high)"
   ]
  },
  {
   "cell_type": "markdown",
   "id": "bbc2c33e-b5df-40c7-851a-de5bbf4f4feb",
   "metadata": {},
   "source": [
    "- 無音区間除去"
   ]
  },
  {
   "cell_type": "code",
   "execution_count": null,
   "id": "019f940d-51f3-47fd-b8e8-4fd5f52c6966",
   "metadata": {},
   "outputs": [],
   "source": [
    "nonsilent_sections, prob_dict = silence_pyaudioanalysis.silence_removal(\n",
    "    ynt, fs, 1000, 500,\n",
    "    freq_low=freq_low, freq_high=freq_high,\n",
    "    min_nonsilence_ms=0,\n",
    "    broaden_section_ms=0,\n",
    "    smooth_window_ms=100,\n",
    "    weight=.5,\n",
    "    return_prob=True\n",
    ")"
   ]
  },
  {
   "cell_type": "code",
   "execution_count": null,
   "id": "b8a18084-36c3-40e9-b17e-45cf0fae6084",
   "metadata": {},
   "outputs": [],
   "source": [
    "pr, pr_thr = prob_dict['probability'], prob_dict['threshold']\n",
    "\n",
    "d_min, d_max = xnt.mean(0).min().item(), xnt.mean(0).max().item()\n",
    "d_min, d_max = min(d_min, -abs(d_max)), max(d_max, abs(d_min))\n",
    "nonsilence = d_min*torch.ones(xnt.shape[-1]*1000//fs)\n",
    "for sec in nonsilent_sections:\n",
    "    nonsilence[sec[0]:sec[1]] = d_max\n",
    "\n",
    "fig, axes = plt.subplots(2, 1, figsize=(16, 4), tight_layout=True)\n",
    "\n",
    "show_wave(xnt, fs, ax=axes[0], color='b')\n",
    "\n",
    "x_ms = torch.linspace(0, xnt.shape[-1]/fs, steps=nonsilence.shape[0])\n",
    "pr_ms = pr[:, None].tile((1, 500)).view(-1)\n",
    "pr_ms = torch.nn.functional.pad(\n",
    "    pr_ms[:x_ms.size(0)],\n",
    "    [0, x_ms.size(0)-min(pr_ms.size(0), x_ms.size(0))],\n",
    "    'constant', torch.nan\n",
    ")\n",
    "axes[0].fill_between(x_ms, nonsilence, d_min, facecolor='r', alpha=.5)\n",
    "axes[0].plot(x_ms, d_min+(d_max-d_min)*pr_ms, color='yellowgreen')\n",
    "axes[0].axhline(y=d_min+(d_max-d_min)*pr_thr, color='yellow')\n",
    "\n",
    "axes[0].tick_params(axis='x', bottom=False, labelbottom=False)\n",
    "axes[0].set_xlim([0, xnt.shape[-1]/fs])\n",
    "axes[0].set_xlabel('')\n",
    "\n",
    "show_spec(xnt, fs, stft_dict['n_fft'], ax=axes[1])\n",
    "\n",
    "plt.show()"
   ]
  },
  {
   "cell_type": "markdown",
   "id": "638d08bb-d33d-432f-a358-69a4265d727e",
   "metadata": {},
   "source": [
    "- 区間抽出"
   ]
  },
  {
   "cell_type": "code",
   "execution_count": null,
   "id": "04b19d07-f8a9-43c1-96fc-be7e7729275c",
   "metadata": {},
   "outputs": [],
   "source": [
    "extracted = [extract_from_section(xnt, fs, section) for section in nonsilent_sections]"
   ]
  }
 ],
 "metadata": {
  "kernelspec": {
   "display_name": "Python 3.9.13 ('venv': venv)",
   "language": "python",
   "name": "python3"
  },
  "language_info": {
   "codemirror_mode": {
    "name": "ipython",
    "version": 3
   },
   "file_extension": ".py",
   "mimetype": "text/x-python",
   "name": "python",
   "nbconvert_exporter": "python",
   "pygments_lexer": "ipython3",
   "version": "3.9.13"
  },
  "vscode": {
   "interpreter": {
    "hash": "08ccb50c02a6577c2b98d8c877daec93873a5d8e9237b98963f96b6a8d684cd5"
   }
  }
 },
 "nbformat": 4,
 "nbformat_minor": 5
}
