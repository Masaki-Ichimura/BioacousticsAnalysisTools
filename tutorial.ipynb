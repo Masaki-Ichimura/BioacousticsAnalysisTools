{
 "cells": [
  {
   "cell_type": "markdown",
   "id": "a9a5d27f-8cd8-4835-b0ed-ff8571a3dc75",
   "metadata": {},
   "source": [
    "## インストール(初回のみ)\n",
    "事前に\n",
    "- pyenv をインストール\n",
    "- `pyenv install 3.8.13` を実行\n",
    "\n",
    "しておく"
   ]
  },
  {
   "cell_type": "code",
   "execution_count": null,
   "id": "62cdba18-423d-4ac9-9ed1-cca2b7ad297e",
   "metadata": {},
   "outputs": [],
   "source": [
    "!sh install.sh"
   ]
  },
  {
   "cell_type": "markdown",
   "id": "8020e744-2be9-4094-aae8-d3b741798af0",
   "metadata": {},
   "source": [
    "---"
   ]
  },
  {
   "cell_type": "code",
   "execution_count": null,
   "id": "48f5e795-8347-4cbf-a50e-6b7fb06faa70",
   "metadata": {},
   "outputs": [],
   "source": [
    "# 仮想環境ディレクトリのパッケージを使うため\n",
    "import site\n",
    "site.addsitedir('env/lib/python3.8/site-packages')"
   ]
  },
  {
   "cell_type": "code",
   "execution_count": null,
   "id": "942522d9-41a5-49f0-8e91-6fa70a2f568b",
   "metadata": {
    "tags": []
   },
   "outputs": [],
   "source": [
    "import torch\n",
    "import matplotlib.pyplot as plt\n",
    "from IPython.display import Audio"
   ]
  },
  {
   "cell_type": "markdown",
   "id": "c3560a7e-4a1e-41b1-b5a9-67dfa3c311d2",
   "metadata": {},
   "source": [
    "## IO"
   ]
  },
  {
   "cell_type": "code",
   "execution_count": null,
   "id": "4d34e372-ac9a-4d82-95d5-cea00c182450",
   "metadata": {},
   "outputs": [],
   "source": [
    "from utils.audio.wave import load_wave, metadata_wave\n",
    "from utils.audio.plot import show_spec, show_wave"
   ]
  },
  {
   "cell_type": "code",
   "execution_count": null,
   "id": "c56e5593-64e1-4610-a629-d50b41b17659",
   "metadata": {},
   "outputs": [],
   "source": [
    "def show(znt, fs):\n",
    "    display(Audio(data=znt, rate=fs))\n",
    "\n",
    "    fig, axes = plt.subplots(2, 1, figsize=(16, 4), tight_layout=True)\n",
    "\n",
    "    show_wave(znt, fs, ax=axes[0], color='b')\n",
    "\n",
    "    axes[0].tick_params(axis='x', bottom=False, labelbottom=False)\n",
    "    axes[0].set_xlim([0, znt.shape[-1]/fs])\n",
    "    axes[0].set_xlabel('')\n",
    "\n",
    "    show_spec(znt, fs, stft_dict['n_fft'], ax=axes[1])\n",
    "\n",
    "    plt.show()"
   ]
  },
  {
   "cell_type": "code",
   "execution_count": null,
   "id": "1195bc46-5a09-4b17-94f0-26b2976b8457",
   "metadata": {},
   "outputs": [],
   "source": [
    "filename = 'data/trim.wav'\n",
    "data, fs = load_wave(filename)\n",
    "\n",
    "# show(data, fs)\n",
    "\n",
    "xnt = data[:, fs*10:fs*20]"
   ]
  },
  {
   "cell_type": "markdown",
   "id": "31037a66-6e75-4edb-ae03-5c42df27d33f",
   "metadata": {},
   "source": [
    "## BSS\n",
    "分離パラメータの詳細は pyroomacoustics から確認\n",
    "> https://pyroomacoustics.readthedocs.io/en/pypi-release/pyroomacoustics.bss.html\n",
    "- AuxIVA\n",
    "- FastMNMF\n",
    "- ILRMA\n",
    "\n",
    "以下，使用は非推奨\n",
    "\n",
    "自己実装\n",
    "- ~~NMFLGM~~\n",
    "\n",
    "GPUテンソルでのデバッグがまだ(CPU上では動く)\n",
    "> https://github.com/onolab-tmu/overiva\n",
    "- ~~OverIVA~~\n",
    "- ~~OGIVE~~"
   ]
  },
  {
   "cell_type": "code",
   "execution_count": null,
   "id": "39c37d3d-9fee-47b7-ad95-82cfcadde4c5",
   "metadata": {
    "tags": []
   },
   "outputs": [],
   "source": [
    "from utils.audio.bss.auxiva import AuxIVA\n",
    "from utils.audio.bss.fastmnmf import FastMNMF\n",
    "from utils.audio.bss.ilrma import ILRMA\n",
    "\n",
    "# from utils.audio.bss.lgm import NMFLGM\n",
    "# from utils.audio.bss.overiva import OverIVA\n",
    "# from utils.audio.bss.ogive import OGIVE"
   ]
  },
  {
   "cell_type": "code",
   "execution_count": null,
   "id": "69a008d5-debe-47b1-822e-58ba81b8ade7",
   "metadata": {},
   "outputs": [],
   "source": [
    "stft_dict = dict(n_fft=1024, hop_length=256, window=torch.hann_window)\n",
    "device = 'cpu'\n",
    "model = AuxIVA(**stft_dict).to(device)"
   ]
  },
  {
   "cell_type": "code",
   "execution_count": null,
   "id": "7ccb1d1d-aa03-429e-bff0-b99f07121b9e",
   "metadata": {},
   "outputs": [],
   "source": [
    "ynt = model(xnt.to(device), n_iter=100)\n",
    "_ = [show(yt, fs) for yt in ynt]"
   ]
  }
 ],
 "metadata": {
  "kernelspec": {
   "display_name": "env",
   "language": "python",
   "name": "env"
  },
  "language_info": {
   "codemirror_mode": {
    "name": "ipython",
    "version": 3
   },
   "file_extension": ".py",
   "mimetype": "text/x-python",
   "name": "python",
   "nbconvert_exporter": "python",
   "pygments_lexer": "ipython3",
   "version": "3.8.13"
  }
 },
 "nbformat": 4,
 "nbformat_minor": 5
}
